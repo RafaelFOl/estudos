{
 "cells": [
  {
   "cell_type": "code",
   "execution_count": 8,
   "metadata": {},
   "outputs": [],
   "source": [
    "import os\n",
    "\n",
    "os.environ['PYSPARK_PYTHON']=\"/usr/bin/python3.6\"\n",
    "os.environ['PYSPARK_DRIVER_PYTHON']=\"/usr/bin/python3.6\"\n",
    "\n",
    "from pyspark import SparkContext, SparkConf\n",
    "from pyspark.sql import SparkSession\n",
    "\n",
    "sparkConf = SparkConf()\n",
    "sparkConf.setMaster(\"k8s://https://10.96.0.1:443\")\n",
    "sparkConf.setAppName(\"KUBERNETES-IS-AWESOME\")\n",
    "sparkConf.set(\"spark.kubernetes.container.image\", \"itayb/spark:3.1.1-hadoop-3.2.0-aws\")\n",
    "sparkConf.set(\"spark.kubernetes.namespace\", \"spark\")\n",
    "sparkConf.set(\"spark.hadoop.fs.s3a.endpoint\", \"http://10.96.101.36:9000\")\n",
    "sparkConf.set(\"spark.hadoop.fs.s3a.access.key\", \"myaccesskey\")\n",
    "sparkConf.set(\"spark.hadoop.fs.s3a.secret.key\", \"mysecretkey\")\n",
    "\n",
    "spark = SparkSession.builder.config(conf=sparkConf).getOrCreate()\n",
    "sc = spark.sparkContext\n",
    "ss=spark.readStream()\n"
   ]
  },
  {
   "cell_type": "code",
   "execution_count": 18,
   "metadata": {},
   "outputs": [],
   "source": [
    "df = spark.read.csv('s3a://bronze/gov/taxigov-corridas-completo.csv',inferSchema=True,header=True)"
   ]
  },
  {
   "cell_type": "code",
   "execution_count": 24,
   "metadata": {},
   "outputs": [],
   "source": [
    "df.createOrReplaceTempView('taxigov')"
   ]
  },
  {
   "cell_type": "code",
   "execution_count": 34,
   "metadata": {},
   "outputs": [],
   "source": [
    "maxv=spark.sql('select count(*) as qtd,cast(data_abertura as date) as date_taxi from taxigov group by cast(data_abertura as date)')"
   ]
  },
  {
   "cell_type": "code",
   "execution_count": 35,
   "metadata": {},
   "outputs": [
    {
     "name": "stdout",
     "output_type": "stream",
     "text": [
      "+----+----------+\n",
      "| qtd| date_taxi|\n",
      "+----+----------+\n",
      "| 275|2020-08-24|\n",
      "| 411|2021-01-27|\n",
      "| 392|2021-06-22|\n",
      "| 409|2021-08-27|\n",
      "|  41|2021-10-11|\n",
      "|  24|2021-11-13|\n",
      "|  31|2021-12-18|\n",
      "| 509|2022-03-28|\n",
      "|  48|2021-10-02|\n",
      "| 648|2021-11-25|\n",
      "|1158|2019-11-18|\n",
      "| 206|2020-07-24|\n",
      "| 209|2020-08-05|\n",
      "|1002|2020-01-21|\n",
      "|   1|2019-11-01|\n",
      "|  42|2020-11-29|\n",
      "| 233|2020-04-30|\n",
      "| 271|2020-08-28|\n",
      "|  56|2020-08-29|\n",
      "|1391|2019-11-21|\n",
      "+----+----------+\n",
      "only showing top 20 rows\n",
      "\n"
     ]
    }
   ],
   "source": [
    "maxv.show()"
   ]
  }
 ],
 "metadata": {
  "interpreter": {
   "hash": "916dbcbb3f70747c44a77c7bcd40155683ae19c65e1c03b4aa3499c5328201f1"
  },
  "kernelspec": {
   "display_name": "Python 3",
   "language": "python",
   "name": "python3"
  },
  "language_info": {
   "codemirror_mode": {
    "name": "ipython",
    "version": 3
   },
   "file_extension": ".py",
   "mimetype": "text/x-python",
   "name": "python",
   "nbconvert_exporter": "python",
   "pygments_lexer": "ipython3",
   "version": "3.7.3"
  },
  "orig_nbformat": 4
 },
 "nbformat": 4,
 "nbformat_minor": 2
}
