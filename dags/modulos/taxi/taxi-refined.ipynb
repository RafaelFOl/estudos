{
 "cells": [
  {
   "cell_type": "code",
   "execution_count": 5,
   "metadata": {},
   "outputs": [],
   "source": [
    "import os\n",
    "\n",
    "os.environ['PYSPARK_PYTHON']=\"/usr/bin/python3.6\"\n",
    "os.environ['PYSPARK_DRIVER_PYTHON']=\"/usr/bin/python3.6\"\n",
    "\n",
    "from pyspark import SparkContext, SparkConf\n",
    "from pyspark.sql import SparkSession\n",
    "\n",
    "sparkConf = SparkConf()\n",
    "sparkConf.setMaster(\"k8s://https://10.96.0.1:443\")\n",
    "sparkConf.setAppName(\"KUBERNETES-IS-AWESOME\")\n",
    "sparkConf.set(\"spark.kubernetes.container.image\", \"itayb/spark:3.1.1-hadoop-3.2.0-aws\")\n",
    "sparkConf.set(\"spark.kubernetes.namespace\", \"spark\")\n",
    "sparkConf.set(\"spark.hadoop.fs.s3a.endpoint\", \"http://10.96.101.36:9000\")\n",
    "sparkConf.set(\"spark.hadoop.fs.s3a.access.key\", \"myaccesskey\")\n",
    "sparkConf.set(\"spark.hadoop.fs.s3a.secret.key\", \"mysecretkey\")\n",
    "\n",
    "spark = SparkSession.builder.config(conf=sparkConf).getOrCreate()\n",
    "sc = spark.sparkContext"
   ]
  },
  {
   "cell_type": "code",
   "execution_count": 39,
   "metadata": {},
   "outputs": [],
   "source": []
  }
 ],
 "metadata": {
  "interpreter": {
   "hash": "916dbcbb3f70747c44a77c7bcd40155683ae19c65e1c03b4aa3499c5328201f1"
  },
  "kernelspec": {
   "display_name": "Python 3",
   "language": "python",
   "name": "python3"
  },
  "language_info": {
   "codemirror_mode": {
    "name": "ipython",
    "version": 3
   },
   "file_extension": ".py",
   "mimetype": "text/x-python",
   "name": "python",
   "nbconvert_exporter": "python",
   "pygments_lexer": "ipython3",
   "version": "3.7.3"
  },
  "orig_nbformat": 4
 },
 "nbformat": 4,
 "nbformat_minor": 2
}
